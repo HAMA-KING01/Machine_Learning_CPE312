{
 "cells": [
  {
   "cell_type": "code",
   "execution_count": 1,
   "id": "d6e95289",
   "metadata": {},
   "outputs": [
    {
     "name": "stdout",
     "output_type": "stream",
     "text": [
      "5\n",
      "Sunday\n",
      "1.2999999999999998\n"
     ]
    },
    {
     "data": {
      "text/plain": [
       "float"
      ]
     },
     "execution_count": 1,
     "metadata": {},
     "output_type": "execute_result"
    }
   ],
   "source": [
    "    R=2+3\n",
    "    d='Sunday'\n",
    "    f=3.4-2.1\n",
    "    print(R)\n",
    "    print(d)\n",
    "    print(f)\n",
    "    type(R)\n",
    "    type(f)\n",
    "  #  type(d)\n",
    "    \n",
    "    \n",
    "    "
   ]
  },
  {
   "cell_type": "markdown",
   "id": "6a3d7523",
   "metadata": {},
   "source": [
    " **print list**"
   ]
  },
  {
   "cell_type": "code",
   "execution_count": 39,
   "id": "37d7ee0f",
   "metadata": {},
   "outputs": [
    {
     "name": "stdout",
     "output_type": "stream",
     "text": [
      "[20, 30, 89]\n"
     ]
    }
   ],
   "source": [
    "a=20\n",
    "b=30\n",
    "c=89\n",
    "list_int=[a,b,c]\n",
    "print(list_int)\n"
   ]
  },
  {
   "cell_type": "code",
   "execution_count": 40,
   "id": "6e1b0ca6",
   "metadata": {},
   "outputs": [
    {
     "data": {
      "text/plain": [
       "20"
      ]
     },
     "execution_count": 40,
     "metadata": {},
     "output_type": "execute_result"
    }
   ],
   "source": [
    "list_int[0]"
   ]
  },
  {
   "cell_type": "code",
   "execution_count": 41,
   "id": "0443a22d",
   "metadata": {},
   "outputs": [
    {
     "data": {
      "text/plain": [
       "89"
      ]
     },
     "execution_count": 41,
     "metadata": {},
     "output_type": "execute_result"
    }
   ],
   "source": [
    "list_int[2]"
   ]
  },
  {
   "cell_type": "code",
   "execution_count": 42,
   "id": "7fa05497",
   "metadata": {},
   "outputs": [
    {
     "data": {
      "text/plain": [
       "[20, 30]"
      ]
     },
     "execution_count": 42,
     "metadata": {},
     "output_type": "execute_result"
    }
   ],
   "source": [
    "list_int[0:2]"
   ]
  },
  {
   "cell_type": "code",
   "execution_count": 43,
   "id": "d55e2c26",
   "metadata": {},
   "outputs": [
    {
     "data": {
      "text/plain": [
       "89"
      ]
     },
     "execution_count": 43,
     "metadata": {},
     "output_type": "execute_result"
    }
   ],
   "source": [
    "list_int[-1]"
   ]
  },
  {
   "cell_type": "code",
   "execution_count": 44,
   "id": "89a3b4d6",
   "metadata": {},
   "outputs": [
    {
     "data": {
      "text/plain": [
       "30"
      ]
     },
     "execution_count": 44,
     "metadata": {},
     "output_type": "execute_result"
    }
   ],
   "source": [
    "list_int[-2]"
   ]
  },
  {
   "cell_type": "code",
   "execution_count": 45,
   "id": "2d51c641",
   "metadata": {},
   "outputs": [
    {
     "name": "stdout",
     "output_type": "stream",
     "text": [
      "[20, 30, 89, 50]\n"
     ]
    }
   ],
   "source": [
    "list_int.append(50)\n",
    "print(list_int)"
   ]
  },
  {
   "cell_type": "code",
   "execution_count": 46,
   "id": "f688e7f4",
   "metadata": {},
   "outputs": [
    {
     "name": "stdout",
     "output_type": "stream",
     "text": [
      "[30, 89, 50]\n"
     ]
    }
   ],
   "source": [
    "list_int.remove(20)\n",
    "print(list_int)"
   ]
  },
  {
   "cell_type": "code",
   "execution_count": 47,
   "id": "b690b5d0",
   "metadata": {},
   "outputs": [
    {
     "data": {
      "text/plain": [
       "50"
      ]
     },
     "execution_count": 47,
     "metadata": {},
     "output_type": "execute_result"
    }
   ],
   "source": [
    "list_int[2]"
   ]
  },
  {
   "cell_type": "code",
   "execution_count": 48,
   "id": "d665c8f3",
   "metadata": {},
   "outputs": [
    {
     "name": "stdout",
     "output_type": "stream",
     "text": [
      "[30, 89, 50, 7]\n"
     ]
    }
   ],
   "source": [
    "list_int.append(7)\n",
    "print(list_int)"
   ]
  },
  {
   "cell_type": "code",
   "execution_count": 49,
   "id": "f6c3dae2",
   "metadata": {},
   "outputs": [
    {
     "name": "stdout",
     "output_type": "stream",
     "text": [
      "[7, 50, 89, 30]\n"
     ]
    }
   ],
   "source": [
    "list_int.reverse()\n",
    "print(list_int)"
   ]
  },
  {
   "cell_type": "code",
   "execution_count": 50,
   "id": "68f55f99",
   "metadata": {},
   "outputs": [
    {
     "name": "stdout",
     "output_type": "stream",
     "text": [
      "[7, 30, 50, 89]\n"
     ]
    }
   ],
   "source": [
    "list_int.sort()\n",
    "print(list_int)"
   ]
  },
  {
   "cell_type": "code",
   "execution_count": 51,
   "id": "dbc279e8",
   "metadata": {},
   "outputs": [
    {
     "name": "stdout",
     "output_type": "stream",
     "text": [
      "[7, 30, 50, 89, 90]\n"
     ]
    }
   ],
   "source": [
    "list_int.append(90)\n",
    "print(list_int)"
   ]
  },
  {
   "cell_type": "code",
   "execution_count": 53,
   "id": "3f6e78f7",
   "metadata": {},
   "outputs": [
    {
     "name": "stdout",
     "output_type": "stream",
     "text": [
      "90\n"
     ]
    }
   ],
   "source": [
    "#Finding maximum element with for loop\n",
    "x=1\n",
    "for NL in list_int:\n",
    "    if(NL>x):\n",
    "        x=NL\n",
    "    else:\n",
    "        continue\n",
    "print(x)"
   ]
  },
  {
   "cell_type": "code",
   "execution_count": 54,
   "id": "42b26df2",
   "metadata": {},
   "outputs": [
    {
     "name": "stdout",
     "output_type": "stream",
     "text": [
      "0\n",
      "1\n",
      "2\n",
      "3\n",
      "4\n"
     ]
    }
   ],
   "source": [
    "i=0\n",
    "\n",
    "while(i<5):\n",
    "    print(i)\n",
    "    i=i+1"
   ]
  },
  {
   "cell_type": "code",
   "execution_count": 55,
   "id": "1d4a880d",
   "metadata": {},
   "outputs": [
    {
     "name": "stdout",
     "output_type": "stream",
     "text": [
      "[7, 30, 50, 89, 90]\n"
     ]
    }
   ],
   "source": [
    "print(list_int)"
   ]
  },
  {
   "cell_type": "code",
   "execution_count": 58,
   "id": "ca821135",
   "metadata": {},
   "outputs": [
    {
     "data": {
      "text/plain": [
       "25.12"
      ]
     },
     "execution_count": 58,
     "metadata": {},
     "output_type": "execute_result"
    }
   ],
   "source": [
    "def camber_cerve(r,pi=3.14):\n",
    "    result=(2*pi*r)\n",
    "    return result\n",
    "camber_cerve(4)"
   ]
  },
  {
   "cell_type": "code",
   "execution_count": 62,
   "id": "1a8d99d2",
   "metadata": {},
   "outputs": [
    {
     "data": {
      "text/plain": [
       "1.0"
      ]
     },
     "execution_count": 62,
     "metadata": {},
     "output_type": "execute_result"
    }
   ],
   "source": [
    "def calculate(x):\n",
    "    result=x/x\n",
    "    return result\n",
    "calculate(4)"
   ]
  },
  {
   "cell_type": "code",
   "execution_count": 63,
   "id": "425d73ff",
   "metadata": {},
   "outputs": [
    {
     "data": {
      "text/plain": [
       "16"
      ]
     },
     "execution_count": 63,
     "metadata": {},
     "output_type": "execute_result"
    }
   ],
   "source": [
    "def calculate(x):\n",
    "    result=x*x\n",
    "    return result\n",
    "calculate(4)"
   ]
  },
  {
   "cell_type": "markdown",
   "id": "dc33980c",
   "metadata": {},
   "source": [
    "**Short way**"
   ]
  },
  {
   "cell_type": "markdown",
   "id": "690de859",
   "metadata": {},
   "source": [
    "lambda"
   ]
  },
  {
   "cell_type": "code",
   "execution_count": 4,
   "id": "5f8a6b0e",
   "metadata": {},
   "outputs": [
    {
     "name": "stdout",
     "output_type": "stream",
     "text": [
      "49\n"
     ]
    }
   ],
   "source": [
    "result = lambda x:x*x\n",
    "print(result(7))"
   ]
  },
  {
   "cell_type": "code",
   "execution_count": 6,
   "id": "36ca7e72",
   "metadata": {},
   "outputs": [
    {
     "name": "stdout",
     "output_type": "stream",
     "text": [
      "{'Ahmed': 20, 'Mohammed': 23, 'irem': 22}\n"
     ]
    }
   ],
   "source": [
    "dictionary={'Ahmed':20,'Mohammed':23,'irem':22}\n",
    "print(dictionary)"
   ]
  },
  {
   "cell_type": "code",
   "execution_count": 8,
   "id": "338ae1b1",
   "metadata": {},
   "outputs": [
    {
     "data": {
      "text/plain": [
       "dict"
      ]
     },
     "execution_count": 8,
     "metadata": {},
     "output_type": "execute_result"
    }
   ],
   "source": [
    "type(dictionary)"
   ]
  },
  {
   "cell_type": "code",
   "execution_count": 10,
   "id": "477fbbc1",
   "metadata": {},
   "outputs": [
    {
     "data": {
      "text/plain": [
       "dict_keys(['Ahmed', 'Mohammed', 'irem'])"
      ]
     },
     "execution_count": 10,
     "metadata": {},
     "output_type": "execute_result"
    }
   ],
   "source": [
    "dictionary.keys()"
   ]
  },
  {
   "cell_type": "code",
   "execution_count": 15,
   "id": "aaf257c0",
   "metadata": {},
   "outputs": [
    {
     "data": {
      "text/plain": [
       "dict_values([20, 23, 22])"
      ]
     },
     "execution_count": 15,
     "metadata": {},
     "output_type": "execute_result"
    }
   ],
   "source": [
    "dictionary.values()"
   ]
  },
  {
   "cell_type": "code",
   "execution_count": 22,
   "id": "9843d38e",
   "metadata": {},
   "outputs": [
    {
     "name": "stdout",
     "output_type": "stream",
     "text": [
      "yes\n"
     ]
    }
   ],
   "source": [
    "k=dictionary.keys\n",
    "if 'Mohammed' in k():\n",
    "    print(\"yes\")\n",
    "else:\n",
    "    print(\"no\")"
   ]
  },
  {
   "cell_type": "code",
   "execution_count": null,
   "id": "33678ca7",
   "metadata": {},
   "outputs": [],
   "source": []
  }
 ],
 "metadata": {
  "kernelspec": {
   "display_name": "Python 3 (ipykernel)",
   "language": "python",
   "name": "python3"
  },
  "language_info": {
   "codemirror_mode": {
    "name": "ipython",
    "version": 3
   },
   "file_extension": ".py",
   "mimetype": "text/x-python",
   "name": "python",
   "nbconvert_exporter": "python",
   "pygments_lexer": "ipython3",
   "version": "3.11.3"
  }
 },
 "nbformat": 4,
 "nbformat_minor": 5
}
